{
 "cells": [
  {
   "cell_type": "code",
   "execution_count": 7,
   "metadata": {},
   "outputs": [
    {
     "name": "stdout",
     "output_type": "stream",
     "text": [
      "[<a class=\"sister\" href=\"http://example.com/elsie\" id=\"link1\">Elsie</a>, <a class=\"sister\" href=\"http://example.com/lacie\" id=\"link2\">Lacie</a>, <a class=\"sister\" href=\"http://example.com/tillie\" id=\"link3\">Tillie</a>]\n",
      "<a class=\"sister\" href=\"http://example.com/elsie\" id=\"link1\">Elsie</a>\n",
      "Elsie\n",
      "http://example.com/lacie\n"
     ]
    }
   ],
   "source": [
    "import requests as req # requests 모듈 => 웹페이지를 요청하고 응답 데이터를 받을 수 있음.\n",
    "from bs4 import BeautifulSoup # BeautifulSoup => html 해석기 \n",
    "\n",
    "request_headers = {'User-Agent': 'Mozilla/5.0 (Windows NT 10.0; Win64; x64) AppleWebKit/537.36 (KHTML, like Gecko) Chrome/71.0.3578.98 Safari/537.36'}\n",
    "\n",
    "# 특정 사이트에 페이지를 요청. 응답 데이터 반환\n",
    "response = req.get(\"https://www.naver.com/\", headers = request_headers)\n",
    "\n",
    "# print(response.text)\n",
    "\n",
    "html_doc = \"\"\"<html><head><title>The Dormouse's story</title></head>\n",
    "<body>\n",
    "<p class=\"title\"><b>The Dormouse's story</b></p>\n",
    "\n",
    "<p class=\"story\">Once upon a time there were three little sisters; and their names were\n",
    "<a href=\"http://example.com/elsie\" class=\"sister\" id=\"link1\">Elsie</a>,\n",
    "<a href=\"http://example.com/lacie\" class=\"sister\" id=\"link2\">Lacie</a> and\n",
    "<a href=\"http://example.com/tillie\" class=\"sister\" id=\"link3\">Tillie</a>;\n",
    "and they lived at the bottom of a well.</p>\n",
    "\n",
    "<p class=\"story\">...</p>\n",
    "\"\"\"\n",
    "\n",
    "# print(html_doc)\n",
    "\n",
    "# soup을 이용해서 html_doc 문자열을 파싱, 그 내용을 soup 변수로 대입\n",
    "soup = BeautifulSoup(html_doc, 'html.parser')\n",
    "alist = soup.select(\"a\") # a 태그 인 것만 찾아서 담겠다. a 태그 인 것만 출력\n",
    "\n",
    "# 리스트 전체\n",
    "print(alist)\n",
    "\n",
    "# 리스트 인덱스 \n",
    "print(alist[0])\n",
    "\n",
    "# 텍스트\n",
    "print(alist[0].text)\n",
    "\n",
    "# 속성명\n",
    "print(alist[1][\"href\"])\n",
    "\n",
    "\n"
   ]
  },
  {
   "cell_type": "code",
   "execution_count": 8,
   "metadata": {},
   "outputs": [
    {
     "name": "stdout",
     "output_type": "stream",
     "text": [
      "\"저인망식 언론인 사찰\"… 검찰 대규모 통신조회 규탄\n"
     ]
    }
   ],
   "source": [
    "import requests as req # requests 모듈 => 웹페이지를 요청하고 응답 데이터를 받을 수 있음.\n",
    "from bs4 import BeautifulSoup # BeautifulSoup => html 해석기 \n",
    "\n",
    "response = req.get(\"https://news.naver.com/\")\n",
    "soup = BeautifulSoup(response.text, 'html.parser')\n",
    "\n",
    "# class를 통해 텍스트 가져오기\n",
    "title = soup.select(\".cjs_t\")\n",
    "print(title[1].text)"
   ]
  },
  {
   "cell_type": "code",
   "execution_count": null,
   "metadata": {},
   "outputs": [],
   "source": []
  }
 ],
 "metadata": {
  "kernelspec": {
   "display_name": "Python 3",
   "language": "python",
   "name": "python3"
  },
  "language_info": {
   "codemirror_mode": {
    "name": "ipython",
    "version": 3
   },
   "file_extension": ".py",
   "mimetype": "text/x-python",
   "name": "python",
   "nbconvert_exporter": "python",
   "pygments_lexer": "ipython3",
   "version": "3.12.4"
  }
 },
 "nbformat": 4,
 "nbformat_minor": 2
}
